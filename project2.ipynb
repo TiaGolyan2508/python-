{
  "nbformat": 4,
  "nbformat_minor": 0,
  "metadata": {
    "colab": {
      "provenance": [],
      "authorship_tag": "ABX9TyM3MktVtdsfB2Ar2nf1eRY2",
      "include_colab_link": true
    },
    "kernelspec": {
      "name": "python3",
      "display_name": "Python 3"
    },
    "language_info": {
      "name": "python"
    }
  },
  "cells": [
    {
      "cell_type": "markdown",
      "metadata": {
        "id": "view-in-github",
        "colab_type": "text"
      },
      "source": [
        "<a href=\"https://colab.research.google.com/github/TiaGolyan2508/python-/blob/python1/project2.ipynb\" target=\"_parent\"><img src=\"https://colab.research.google.com/assets/colab-badge.svg\" alt=\"Open In Colab\"/></a>"
      ]
    },
    {
      "cell_type": "code",
      "execution_count": null,
      "metadata": {
        "id": "YBGHyc-veCVX"
      },
      "outputs": [],
      "source": [
        "import random\n",
        "class BlackjackGame:\n",
        "    def __init__(self):\n",
        "        self.card_values = {'Ace': 11, '2': 2, '3': 3, '4': 4, '5': 5, '6': 6, '7': 7, '8': 8, '9': 9, '10': 10, 'Jack': 10, 'Queen': 10, 'King': 10}\n",
        "        self.deck = self.initialize_deck()\n",
        "        random.shuffle(self.deck)\n",
        "        self.player_hand = []\n",
        "        self.dealer_hand = []\n",
        "        self.initialize_hands()\n",
        "\n",
        "    def initialize_deck(self):\n",
        "        return [(value, suit) for value in self.card_values.keys() for suit in ['Hearts', 'Diamonds', 'Clubs', 'Spades']]\n",
        "\n",
        "    def deal_card(self):\n",
        "        return self.deck.pop()\n",
        "\n",
        "    def initialize_hands(self):\n",
        "        self.player_hand = [self.deal_card(), self.deal_card()]\n",
        "        self.dealer_hand = [self.deal_card(), self.deal_card()]\n",
        "\n",
        "    def calculate_score(self, hand):\n",
        "        score = sum(self.card_values[card[0]] for card in hand)\n",
        "        num_aces = sum(1 for card in hand if card[0] == 'Ace')\n",
        "        while score > 21 and num_aces:\n",
        "            score -= 10\n",
        "            num_aces -= 1\n",
        "        return score\n",
        "\n",
        "    def display_game(self):\n",
        "        print(\"Player's Hand:\", self.player_hand, \"Score:\", self.calculate_score(self.player_hand))\n",
        "        print(\"Dealer's Hand:\", self.dealer_hand[0], \"Score:\", self.calculate_score([self.dealer_hand[0]]))\n",
        "\n",
        "    def play(self):\n",
        "        print(\"Welcome to Blackjack!\")\n",
        "        self.display_game()\n",
        "        # Player's turn\n",
        "        while self.calculate_score(self.player_hand) < 21:\n",
        "            choice = input(\"Do you want to hit or stand? (h/s): \").lower()\n",
        "            if choice == 'h':\n",
        "                self.player_hand.append(self.deal_card())\n",
        "                self.display_game()\n",
        "            elif choice == 's':\n",
        "                break\n",
        "            else:\n",
        "          print(\"Invalid input! Please enter 'h' or 's'.\")\n",
        "        player_score = self.calculate_score(self.player_hand)\n",
        "        # Dealer's turn\n",
        "        while self.calculate_score(self.dealer_hand) < 17:\n",
        "            self.dealer_hand.append(self.deal_card())\n",
        "        dealer_score = self.calculate_score(self.dealer_hand)\n",
        "        print(\"\\nFinal Results:\")\n",
        "        self.display_game()\n",
        "        # Determine winner\n",
        "        if player_score > 21:\n",
        "            print(\"Player busts! Dealer wins.\")\n",
        "        elif dealer_score > 21:\n",
        "            print(\"Dealer busts! Player wins.\")\n",
        "        elif player_score > dealer_score:\n",
        "            print(\"Player wins!\")\n",
        "        elif dealer_score > player_score:\n",
        "            print(\"Dealer wins!\")\n",
        "        else:\n",
        "            print(\"It's a tie!\")\n",
        "# Start the game\n",
        "game = BlackjackGame()\n",
        "game.play()\n"
      ]
    }
  ]
}