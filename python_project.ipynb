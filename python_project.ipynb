{
  "nbformat": 4,
  "nbformat_minor": 0,
  "metadata": {
    "colab": {
      "provenance": [],
      "authorship_tag": "ABX9TyPA3vgJYFD69xmC4abh8bTw",
      "include_colab_link": true
    },
    "kernelspec": {
      "name": "python3",
      "display_name": "Python 3"
    },
    "language_info": {
      "name": "python"
    }
  },
  "cells": [
    {
      "cell_type": "markdown",
      "metadata": {
        "id": "view-in-github",
        "colab_type": "text"
      },
      "source": [
        "<a href=\"https://colab.research.google.com/github/TiaGolyan2508/python-/blob/python1/python_project.ipynb\" target=\"_parent\"><img src=\"https://colab.research.google.com/assets/colab-badge.svg\" alt=\"Open In Colab\"/></a>"
      ]
    },
    {
      "cell_type": "code",
      "source": [
        "#hangman game\n",
        "import random\n",
        "\n",
        "def choose_word():\n",
        "    word_list = [\"apple\", \"banana\", \"orange\", \"grape\", \"kiwi\"]\n",
        "    return random.choice(word_list)\n",
        "\n",
        "def display_word(word, guessed_letters):\n",
        "    display = ''\n",
        "    for letter in word:\n",
        "        if letter in guessed_letters:\n",
        "            display += letter\n",
        "        else:\n",
        "            display += '_'\n",
        "    return display\n",
        "\n",
        "def hangman():\n",
        "    word = choose_word()\n",
        "    guessed_letters = []\n",
        "    attempts = 6\n",
        "\n",
        "    print(\"Welcome to Hangman!\")\n",
        "    print(display_word(word, guessed_letters))\n",
        "\n",
        "    while True:\n",
        "        guess = input(\"Guess a letter: \").lower()\n",
        "\n",
        "        if guess in guessed_letters:\n",
        "            print(\"You already guessed that letter.\")\n",
        "            continue\n",
        "\n",
        "        guessed_letters.append(guess)\n",
        "\n",
        "        if guess not in word:\n",
        "            attempts -= 1\n",
        "            print(\"Incorrect guess. Attempts left:\", attempts)\n",
        "            if attempts == 0:\n",
        "                print(\"You ran out of attempts! The word was:\", word)\n",
        "                break\n",
        "        else:\n",
        "            print(\"Correct guess!\")\n",
        "\n",
        "        displayed_word = display_word(word, guessed_letters)\n",
        "        print(displayed_word)\n",
        "\n",
        "        if '_' not in displayed_word:\n",
        "            print(\"Congratulations! You guessed the word:\", word)\n",
        "            break\n",
        "\n",
        "hangman()\n"
      ],
      "metadata": {
        "id": "ST8r9o2neL21"
      },
      "execution_count": null,
      "outputs": []
    },
    {
      "cell_type": "code",
      "source": [],
      "metadata": {
        "id": "1fVuAL9RjP6I"
      },
      "execution_count": null,
      "outputs": []
    },
    {
      "cell_type": "code",
      "source": [],
      "metadata": {
        "id": "J2_L3NhkjQ18"
      },
      "execution_count": null,
      "outputs": []
    }
  ]
}