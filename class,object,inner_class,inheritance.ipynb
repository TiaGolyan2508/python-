{
  "nbformat": 4,
  "nbformat_minor": 0,
  "metadata": {
    "colab": {
      "provenance": [],
      "authorship_tag": "ABX9TyN2w3nDoQQ1XofxEaPr5xCh",
      "include_colab_link": true
    },
    "kernelspec": {
      "name": "python3",
      "display_name": "Python 3"
    },
    "language_info": {
      "name": "python"
    }
  },
  "cells": [
    {
      "cell_type": "markdown",
      "metadata": {
        "id": "view-in-github",
        "colab_type": "text"
      },
      "source": [
        "<a href=\"https://colab.research.google.com/github/TiaGolyan2508/python-/blob/python1/class%2Cobject%2Cinner_class%2Cinheritance.ipynb\" target=\"_parent\"><img src=\"https://colab.research.google.com/assets/colab-badge.svg\" alt=\"Open In Colab\"/></a>"
      ]
    },
    {
      "cell_type": "code",
      "execution_count": null,
      "metadata": {
        "colab": {
          "base_uri": "https://localhost:8080/"
        },
        "id": "EOtj-qdUNhFd",
        "outputId": "b22298bd-36a2-43c2-bf52-977bb35368ac"
      },
      "outputs": [
        {
          "output_type": "stream",
          "name": "stdout",
          "text": [
            "tiya 19\n",
            "ashi 17\n"
          ]
        }
      ],
      "source": [
        "#how to create a class and object\n",
        "class student:\n",
        "  def __init__(self, name, age):\n",
        "    self.name=name\n",
        "    self.age=age\n",
        "  def info(self):\n",
        "    print(self.name,self.age)\n",
        "c1=student(\"tiya\",19)\n",
        "c2=student(\"ashi\",17)\n",
        "c1.info()\n",
        "c2.info()"
      ]
    },
    {
      "cell_type": "code",
      "source": [
        "#class within class\n",
        "#self is used to access class members\n",
        "\n",
        "class employee:\n",
        "  def __init__(self,name,id): #2 arguments pass krne honge,self is by default\n",
        "    self.n=name\n",
        "    self.i=id\n",
        "    self.m=self.member() #saving at as an attributer\n",
        "  def show(self):\n",
        "    print(self.n,self.i)\n",
        "  #creating inner class #used to hide implementations\n",
        "  class member:\n",
        "    def __init__(self):\n",
        "      print(\"i am the senior manager at bosch\")\n",
        "    def show(self):\n",
        "      print(\"something\")\n",
        "# wrong tho e1=employee(\"tiya\",500122580)\n",
        "#e2=employee(\"ashi\",31242441)\n",
        "#e1.show()\n",
        "#e2.show()\n",
        "e1=employee(\"tiya\",500122580)\n",
        "e1.show()\n",
        "e1.m.show()"
      ],
      "metadata": {
        "colab": {
          "base_uri": "https://localhost:8080/"
        },
        "id": "ch5o9XFQQNT_",
        "outputId": "f85f9d9a-4555-4e64-bac6-e53846104ec7"
      },
      "execution_count": null,
      "outputs": [
        {
          "output_type": "stream",
          "name": "stdout",
          "text": [
            "i am the senior manager at bosch\n",
            "tiya 500122580\n",
            "something\n"
          ]
        }
      ]
    },
    {
      "cell_type": "code",
      "source": [
        "#inheritance\n",
        "class parents:\n",
        "  def val(self):\n",
        "    print(\"i have property worth 100 billion\")\n",
        "class son:\n",
        "  def property(parents):\n",
        "    print(\"i have nothing,i am bankrupt\")\n",
        "class daughter:\n",
        "  def property(self):\n",
        "    print(\"i am settled abroad\")\n",
        "p1=parents()\n",
        "p1.val()\n",
        "s1=son()\n",
        "s1.property()\n",
        "d1=daughter()\n",
        "d1.property()"
      ],
      "metadata": {
        "colab": {
          "base_uri": "https://localhost:8080/"
        },
        "id": "yP5IIg9cU6rl",
        "outputId": "dfecb610-5e62-4878-f756-7708e8e73f70"
      },
      "execution_count": 1,
      "outputs": [
        {
          "output_type": "stream",
          "name": "stdout",
          "text": [
            "i have property worth 100 billion\n",
            "i have nothing,i am bankrupt\n",
            "i am settled abroad\n"
          ]
        }
      ]
    },
    {
      "cell_type": "code",
      "source": [
        "#write a program to create 2 classes for the same object(inner class concept)\n",
        "#oneclass is student and other is member, u gotta pass students detail,print the results from both classes using only a single object\n",
        "class student:\n",
        "  def __init__(self,name,id):\n",
        "    self.n=name\n",
        "    self.i=id\n",
        "    self.m=self.member()\n",
        "  def show(self):\n",
        "    print(self.n,self.i)\n",
        "  class member:\n",
        "    def __init__(student):\n",
        "      print(\"i am the senior manager at bosch\")\n",
        "    def show(self):\n",
        "      print(\"student got placed in bosch\")\n",
        "s1=student(\"tia\",500122580)\n",
        "s1.show()\n",
        "s1.m.show()\n"
      ],
      "metadata": {
        "colab": {
          "base_uri": "https://localhost:8080/"
        },
        "id": "CqPwPyqeYQpL",
        "outputId": "7d1e6393-1f4f-43e4-ccd0-3c8fc60717a1"
      },
      "execution_count": null,
      "outputs": [
        {
          "output_type": "stream",
          "name": "stdout",
          "text": [
            "i am the senior manager at bosch\n",
            "tia 500122580\n",
            "student got placed in bosch\n"
          ]
        }
      ]
    },
    {
      "cell_type": "code",
      "source": [
        "#write a propgram to create a rectangle class consists of two methods one is area and other is parameter.parameter is in inner class\n",
        "class rectangle:\n",
        "  def __init__(self,length,breadth):\n",
        "    self.l=length\n",
        "    self.b=breadth\n",
        "  def area(self):\n",
        "    a=self.l*self.b\n",
        "    print(a)\n",
        "  class inner:\n",
        "    def parameter(self,rectangle_inst):\n",
        "      p=2 * (rectangle_inst.l + rectangle_inst.b)\n",
        "      print(p)\n",
        "tiya=rectangle(15,10)\n",
        "tiya.area()\n",
        "inner_inst = tiya.inner()\n",
        "inner_inst.parameter(tiya)\n",
        "\n",
        "\n",
        "\n"
      ],
      "metadata": {
        "colab": {
          "base_uri": "https://localhost:8080/"
        },
        "id": "XyTXOY26bplt",
        "outputId": "83656aeb-f2d8-4839-d47b-d6e5b1e3de22"
      },
      "execution_count": null,
      "outputs": [
        {
          "output_type": "stream",
          "name": "stdout",
          "text": [
            "150\n",
            "50\n"
          ]
        }
      ]
    },
    {
      "cell_type": "code",
      "source": [],
      "metadata": {
        "id": "sAc_q_a1y9yZ"
      },
      "execution_count": null,
      "outputs": []
    }
  ]
}