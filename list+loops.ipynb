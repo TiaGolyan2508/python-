{
  "nbformat": 4,
  "nbformat_minor": 0,
  "metadata": {
    "colab": {
      "provenance": [],
      "authorship_tag": "ABX9TyOzjLodpr9kuY04ULltt3G6",
      "include_colab_link": true
    },
    "kernelspec": {
      "name": "python3",
      "display_name": "Python 3"
    },
    "language_info": {
      "name": "python"
    }
  },
  "cells": [
    {
      "cell_type": "markdown",
      "metadata": {
        "id": "view-in-github",
        "colab_type": "text"
      },
      "source": [
        "<a href=\"https://colab.research.google.com/github/TiaGolyan2508/python-/blob/python1/list%2Bloops.ipynb\" target=\"_parent\"><img src=\"https://colab.research.google.com/assets/colab-badge.svg\" alt=\"Open In Colab\"/></a>"
      ]
    },
    {
      "cell_type": "code",
      "execution_count": null,
      "metadata": {
        "colab": {
          "base_uri": "https://localhost:8080/"
        },
        "id": "7Y5P7C03AhX9",
        "outputId": "6eda1109-b0cd-42c5-9cac-2fb56c721d52"
      },
      "outputs": [
        {
          "output_type": "stream",
          "name": "stdout",
          "text": [
            "['tiya', 'ashi', 'shivansh']\n",
            "ashi\n",
            "['tiya', 'ashi']\n",
            "['ashi', 'shivansh']\n",
            "['tiya', 'ashi', 'shivansh']\n",
            "['tiya', 'ashi', 'shivansh', '22', '25']\n"
          ]
        }
      ],
      "source": [
        "list_ = ['tiya','ashi','shivansh']\n",
        "list1=['22','25']\n",
        "print(list_)\n",
        "\n",
        "print(list_[1])\n",
        "print(list[0:2])#prints elements starting from 1st till second\n",
        "print(list [1:])\n",
        "print(list*1)#repeats the list\n",
        "print(list+list1)\n"
      ]
    },
    {
      "cell_type": "code",
      "source": [
        "names=[\"tiya\",\"ashi\",\"kinjal\",\"keshav\",\"shivansh\"]\n",
        "print(names[0])\n",
        "print(names[-4])\n",
        "names[2]=\"shivansh\"\n",
        "print(names)\n",
        "print(names[0:3])\n",
        "names.append(\"river\")\n",
        "print(names)\n",
        "names.insert(0,\"ashi\")\n",
        "names.remove(\"river\")\n",
        "print(names)\n",
        "print(\"tiya\" in names)\n",
        "print(len(names))\n",
        "print(names.pop())"
      ],
      "metadata": {
        "colab": {
          "base_uri": "https://localhost:8080/"
        },
        "id": "JkdEa4d7Cxxa",
        "outputId": "887626d1-e5be-4b0d-d1b0-145d7c300424"
      },
      "execution_count": null,
      "outputs": [
        {
          "output_type": "stream",
          "name": "stdout",
          "text": [
            "tiya\n",
            "ashi\n",
            "['tiya', 'ashi', 'shivansh', 'keshav', 'shivansh']\n",
            "['tiya', 'ashi', 'shivansh']\n",
            "['tiya', 'ashi', 'shivansh', 'keshav', 'shivansh', 'river']\n",
            "['ashi', 'tiya', 'ashi', 'shivansh', 'keshav', 'shivansh']\n",
            "True\n",
            "6\n",
            "shivansh\n"
          ]
        }
      ]
    },
    {
      "cell_type": "code",
      "source": [
        "Tup=('a','b','c',70,1.23)\n",
        "Tup2=('d',77)\n",
        "print(Tup)\n",
        "print(Tup[0])\n",
        "print(Tup[1:3])\n",
        "print(Tup[2:])\n",
        "print(Tup *2)\n",
        "print(Tup+Tup2)\n"
      ],
      "metadata": {
        "colab": {
          "base_uri": "https://localhost:8080/"
        },
        "id": "fHbauhAUHeuc",
        "outputId": "88fee7cd-5b6c-40c5-f3d9-5daa50e49ab4"
      },
      "execution_count": null,
      "outputs": [
        {
          "output_type": "stream",
          "name": "stdout",
          "text": [
            "('a', 'b', 'c', 70, 1.23)\n",
            "a\n",
            "('b', 'c')\n",
            "('c', 70, 1.23)\n",
            "('a', 'b', 'c', 70, 1.23, 'a', 'b', 'c', 70, 1.23)\n",
            "('a', 'b', 'c', 70, 1.23, 'd', 77)\n"
          ]
        }
      ]
    },
    {
      "cell_type": "code",
      "source": [
        "#write a program to iterate through a string\n",
        "\n",
        "string1=\"hii tiya\"\n",
        "for i in string1:\n",
        "  print(i)"
      ],
      "metadata": {
        "colab": {
          "base_uri": "https://localhost:8080/"
        },
        "id": "ssVQSpiBH2Ga",
        "outputId": "fb5acf0b-f9af-43e6-9c7a-213f14ce7228"
      },
      "execution_count": null,
      "outputs": [
        {
          "output_type": "stream",
          "name": "stdout",
          "text": [
            "h\n",
            "i\n",
            "i\n",
            " \n",
            "t\n",
            "i\n",
            "y\n",
            "a\n"
          ]
        }
      ]
    },
    {
      "cell_type": "code",
      "source": [
        "#write a propgram to print the tables starting from 2-12\n",
        "a = int(input(\"Enter a number: \"))\n",
        "\n",
        "for i in range(1, 11):\n",
        "    print(a * i)"
      ],
      "metadata": {
        "id": "p09uwVUpJ1Za",
        "colab": {
          "base_uri": "https://localhost:8080/"
        },
        "outputId": "b26992bf-fcd9-4461-b976-a14a0c6413b2"
      },
      "execution_count": 1,
      "outputs": [
        {
          "output_type": "stream",
          "name": "stdout",
          "text": [
            "Enter a number: 5\n",
            "5\n",
            "10\n",
            "15\n",
            "20\n",
            "25\n",
            "30\n",
            "35\n",
            "40\n",
            "45\n",
            "50\n"
          ]
        }
      ]
    }
  ]
}