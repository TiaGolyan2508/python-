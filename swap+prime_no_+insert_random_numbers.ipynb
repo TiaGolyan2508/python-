{
  "nbformat": 4,
  "nbformat_minor": 0,
  "metadata": {
    "colab": {
      "provenance": [],
      "authorship_tag": "ABX9TyN0WinXS2thMaEocdffY/aK",
      "include_colab_link": true
    },
    "kernelspec": {
      "name": "python3",
      "display_name": "Python 3"
    },
    "language_info": {
      "name": "python"
    }
  },
  "cells": [
    {
      "cell_type": "markdown",
      "metadata": {
        "id": "view-in-github",
        "colab_type": "text"
      },
      "source": [
        "<a href=\"https://colab.research.google.com/github/TiaGolyan2508/python-/blob/python1/swap%2Bprime_no_%2Binsert_random_numbers.ipynb\" target=\"_parent\"><img src=\"https://colab.research.google.com/assets/colab-badge.svg\" alt=\"Open In Colab\"/></a>"
      ]
    },
    {
      "cell_type": "code",
      "execution_count": null,
      "metadata": {
        "colab": {
          "base_uri": "https://localhost:8080/"
        },
        "id": "gcov_P_qQiBj",
        "outputId": "7df604d0-b769-4d65-c40c-9c6ebc0dcd83"
      },
      "outputs": [
        {
          "output_type": "stream",
          "name": "stdout",
          "text": [
            "[7, 2, 3, 4, 5, 6, 1]\n"
          ]
        }
      ],
      "source": [
        "#write a program to swap first and the last element of a list\n",
        "list=[1,2,3,4,5,6,7]\n",
        "list[-1],list[0]=list[0],list[-1]\n",
        "print(list)"
      ]
    },
    {
      "cell_type": "code",
      "source": [
        "#write a program that stores only prime no.s from 1 to 100\n",
        "for i in range(2,101):\n",
        "  for j in range(2,101):\n",
        "    if i%j==0:\n",
        "      break\n",
        "if i == j:\n",
        "  print(i, \"\\n\")"
      ],
      "metadata": {
        "id": "ZUOxIjmOSF8M"
      },
      "execution_count": 2,
      "outputs": []
    },
    {
      "cell_type": "code",
      "source": [
        "#write a program to insert random numbers in a list and find the largest no.\n",
        "import random\n",
        "random_list = [random.randint(1, 100) for _ in range(10)]\n",
        "print(\"Generated list:\", random_list)\n",
        "largest_number = max(random_list)\n",
        "print(\"Largest number in the list:\", largest_number)\n"
      ],
      "metadata": {
        "id": "LbtwL34gTt3E",
        "colab": {
          "base_uri": "https://localhost:8080/"
        },
        "outputId": "5133fb2c-ddaf-4f60-d6ed-ab83757e1056"
      },
      "execution_count": 1,
      "outputs": [
        {
          "output_type": "stream",
          "name": "stdout",
          "text": [
            "Generated list: [92, 16, 47, 17, 89, 41, 45, 53, 82, 13]\n",
            "Largest number in the list: 92\n"
          ]
        }
      ]
    }
  ]
}