{
  "nbformat": 4,
  "nbformat_minor": 0,
  "metadata": {
    "colab": {
      "provenance": [],
      "authorship_tag": "ABX9TyPV3zcLQZ1HnlfX9DDwPtaU",
      "include_colab_link": true
    },
    "kernelspec": {
      "name": "python3",
      "display_name": "Python 3"
    },
    "language_info": {
      "name": "python"
    }
  },
  "cells": [
    {
      "cell_type": "markdown",
      "metadata": {
        "id": "view-in-github",
        "colab_type": "text"
      },
      "source": [
        "<a href=\"https://colab.research.google.com/github/TiaGolyan2508/python-/blob/python1/functions%2Brecursion.ipynb\" target=\"_parent\"><img src=\"https://colab.research.google.com/assets/colab-badge.svg\" alt=\"Open In Colab\"/></a>"
      ]
    },
    {
      "cell_type": "code",
      "execution_count": null,
      "metadata": {
        "colab": {
          "base_uri": "https://localhost:8080/"
        },
        "id": "_guCM72ZHfkj",
        "outputId": "ac5b5044-cc4d-44a5-d1df-c4d1a50a7faa"
      },
      "outputs": [
        {
          "output_type": "stream",
          "name": "stdout",
          "text": [
            "enter a no.5\n",
            "120\n"
          ]
        }
      ],
      "source": [
        "#factorial of a number\n",
        "def fact(n):\n",
        "  n=int(input(\"enter a no.\"))\n",
        "  a=1\n",
        "  for i in range(2,n+1):\n",
        "    a=a*i\n",
        "  print(a)\n",
        "fact(5)"
      ]
    },
    {
      "cell_type": "code",
      "source": [
        "#fibbonaci series\n",
        "def fib(n):\n",
        "  a=0\n",
        "  b=1\n",
        "  for i in range(2,n+1):\n",
        "     c=a+b\n",
        "     a=b\n",
        "     b=c\n",
        "     print(c)\n",
        "fib(13)"
      ],
      "metadata": {
        "colab": {
          "base_uri": "https://localhost:8080/"
        },
        "id": "MgB1TjjqJ0ob",
        "outputId": "91e6b04f-2102-451d-c24c-9502d793132c"
      },
      "execution_count": null,
      "outputs": [
        {
          "output_type": "stream",
          "name": "stdout",
          "text": [
            "1\n",
            "2\n",
            "3\n",
            "5\n",
            "8\n",
            "13\n",
            "21\n",
            "34\n",
            "55\n",
            "89\n",
            "144\n",
            "233\n"
          ]
        }
      ]
    },
    {
      "cell_type": "code",
      "source": [
        "#write a function to check whether a no. is prime and even\n",
        "def funn(n):\n",
        "  a=0\n",
        "  if (n%2==0):\n",
        "    for i in range(2,a):\n",
        "      (n%i==0)\n",
        "    print(\"the number is prime as well as even\")\n",
        "  else:\n",
        "    print(\"no. is not even as well as prime\")\n",
        "    print(n)\n",
        "funn(2)"
      ],
      "metadata": {
        "colab": {
          "base_uri": "https://localhost:8080/"
        },
        "id": "9qRlzCBUN8Jv",
        "outputId": "94f63dff-9efc-4690-9695-f53f10c2a72e"
      },
      "execution_count": null,
      "outputs": [
        {
          "output_type": "stream",
          "name": "stdout",
          "text": [
            "the number is prime as well as even\n"
          ]
        }
      ]
    },
    {
      "cell_type": "code",
      "source": [
        "#time complexity of recursion is very muchplus debugging is tough\n",
        "def hii():\n",
        "  print(\"hello\")\n",
        "hii()\n",
        "hii()\n"
      ],
      "metadata": {
        "colab": {
          "base_uri": "https://localhost:8080/"
        },
        "id": "gGoQP9_7Q3r8",
        "outputId": "5540a232-24d8-406e-994c-89aaa910e1bf"
      },
      "execution_count": null,
      "outputs": [
        {
          "output_type": "stream",
          "name": "stdout",
          "text": [
            "hello\n",
            "hello\n"
          ]
        }
      ]
    },
    {
      "cell_type": "code",
      "source": [
        "def fact_1(n):\n",
        "  if(n==0 or n==1):\n",
        "    return 1\n",
        "  else:\n",
        "    return n*fact_1(n-1)\n",
        "fact_1(7)"
      ],
      "metadata": {
        "colab": {
          "base_uri": "https://localhost:8080/"
        },
        "id": "2msl4KAhSCZo",
        "outputId": "73325243-67e6-4caa-a7e9-63ee050041de"
      },
      "execution_count": null,
      "outputs": [
        {
          "output_type": "execute_result",
          "data": {
            "text/plain": [
              "5040"
            ]
          },
          "metadata": {},
          "execution_count": 64
        }
      ]
    },
    {
      "cell_type": "code",
      "source": [
        "def fibb(n):\n",
        "  if(n==0 or n==1):\n",
        "    return n\n",
        "  else:\n",
        "    return(fibb(n-1)+fibb(n-2))\n",
        "n=int(input(\"enter a no. \"))\n",
        "for i in range(n):\n",
        "  print(fibb(4))\n",
        "fibb(5)\n"
      ],
      "metadata": {
        "colab": {
          "base_uri": "https://localhost:8080/"
        },
        "id": "o7tWx_6rTGNY",
        "outputId": "2d71702c-6b57-493f-ca39-f47efc805abf"
      },
      "execution_count": null,
      "outputs": [
        {
          "output_type": "stream",
          "name": "stdout",
          "text": [
            "enter a no. 5\n",
            "3\n",
            "3\n",
            "3\n",
            "3\n",
            "3\n"
          ]
        },
        {
          "output_type": "execute_result",
          "data": {
            "text/plain": [
              "5"
            ]
          },
          "metadata": {},
          "execution_count": 71
        }
      ]
    },
    {
      "cell_type": "code",
      "source": [
        "f=lambda n: n**3 #using lambda function\n",
        "result=f(7)\n",
        "print(result)"
      ],
      "metadata": {
        "colab": {
          "base_uri": "https://localhost:8080/"
        },
        "id": "DoCDVhEeVk8o",
        "outputId": "65f8c703-4ff0-4071-c4eb-fcc70904eabb"
      },
      "execution_count": null,
      "outputs": [
        {
          "output_type": "stream",
          "name": "stdout",
          "text": [
            "343\n"
          ]
        }
      ]
    },
    {
      "cell_type": "code",
      "source": [
        "f=lambda a,b: a+b\n",
        "c=f(11,12)\n",
        "print(c)"
      ],
      "metadata": {
        "colab": {
          "base_uri": "https://localhost:8080/"
        },
        "id": "5LnfeAoeWDAC",
        "outputId": "203ee92b-3db3-4a0e-bc14-c5ea8c619217"
      },
      "execution_count": null,
      "outputs": [
        {
          "output_type": "stream",
          "name": "stdout",
          "text": [
            "23\n"
          ]
        }
      ]
    },
    {
      "cell_type": "code",
      "source": [
        "#inbuilt functions\n",
        "#filter(function argument,iterator),map(),reduce()\n",
        "def is_even(n):\n",
        "  return n%2==0\n",
        "  list_num=[1,2,3,4,5,6,7,10]\n",
        "  t=list(filter(is_even,list_num))\n",
        "  print(t)\n",
        "\n"
      ],
      "metadata": {
        "id": "K2cc_1YM_Kow"
      },
      "execution_count": null,
      "outputs": []
    },
    {
      "cell_type": "code",
      "source": [
        "list_num=[1,2,3,4,58,10,14]\n",
        "list_even=list(filter(lambda n:n%2==0,list_num ))\n",
        "print(list_even)\n"
      ],
      "metadata": {
        "colab": {
          "base_uri": "https://localhost:8080/"
        },
        "id": "7WHXgCTpBSMv",
        "outputId": "79f0f701-a9a1-4647-daf3-300b39f477f3"
      },
      "execution_count": null,
      "outputs": [
        {
          "output_type": "stream",
          "name": "stdout",
          "text": [
            "[2, 4, 58, 10, 14]\n"
          ]
        }
      ]
    },
    {
      "cell_type": "code",
      "source": [
        "#for big data,we use filter(),map-used for updating\n",
        "#map(update,iterator/values from prev o/p)\n",
        "#update fun is an inbuilt fun used for passing argument\n",
        "list_num=[1,2,3,4,58,10,14]\n",
        "list_even=list(filter(lambda n:n%2==0,list_num ))\n",
        "print(list_even)\n"
      ],
      "metadata": {
        "id": "laya2jZkClN4"
      },
      "execution_count": null,
      "outputs": []
    },
    {
      "cell_type": "code",
      "source": [
        "def update(n):\n",
        "  return n*2\n",
        "list_3=list(map(update,list_even))\n",
        "print(list_3)"
      ],
      "metadata": {
        "colab": {
          "base_uri": "https://localhost:8080/"
        },
        "id": "75wIDOmTDa3P",
        "outputId": "230ddcbe-a937-4943-d748-d2b16c9aabaa"
      },
      "execution_count": null,
      "outputs": [
        {
          "output_type": "stream",
          "name": "stdout",
          "text": [
            "[4, 8, 116, 20, 28]\n"
          ]
        }
      ]
    },
    {
      "cell_type": "code",
      "source": [
        "#using lambda\n",
        "list_4=list(map(lambda n:n**2,list_even))\n",
        "print(list_4)"
      ],
      "metadata": {
        "colab": {
          "base_uri": "https://localhost:8080/"
        },
        "id": "fgAycmE_EG6N",
        "outputId": "b26d2203-1072-4ac7-97b4-ca13eaeffa38"
      },
      "execution_count": null,
      "outputs": [
        {
          "output_type": "stream",
          "name": "stdout",
          "text": [
            "[4, 16, 3364, 100, 196]\n"
          ]
        }
      ]
    },
    {
      "cell_type": "code",
      "source": [
        "#from function tools import reduce\n",
        "#reduce (fun,iterator)\n",
        "from func tools import reduce\n",
        "sum=reduce\n",
        "return a+b\n",
        "sum=reduce( )\n",
        "\n",
        "\n"
      ],
      "metadata": {
        "id": "6GWCy26yEigJ"
      },
      "execution_count": null,
      "outputs": []
    },
    {
      "cell_type": "code",
      "source": [
        "#write a program to find even and odd numbers in a list\n",
        "list_numm=[1,2,55,12,35,18,19,20,26]\n",
        "list_even=list(filter(lambda n:n%2==0,list_numm))\n",
        "list_odd=list(filter(lambda n:n%2!=0,list_numm))\n",
        "print(len(list_even))\n",
        "print(len(list_odd))"
      ],
      "metadata": {
        "colab": {
          "base_uri": "https://localhost:8080/"
        },
        "id": "ROvJXQTEHQ8v",
        "outputId": "d141d9aa-2349-4e18-b134-5d1ed1919772"
      },
      "execution_count": null,
      "outputs": [
        {
          "output_type": "stream",
          "name": "stdout",
          "text": [
            "5\n",
            "4\n"
          ]
        }
      ]
    },
    {
      "cell_type": "code",
      "source": [
        "def count(list):\n",
        "  ev=0\n",
        "  od=0\n",
        "  for i in list:\n",
        "    if i%2==0:\n",
        "      ev+=1\n",
        "    else:\n",
        "      od+=1\n",
        "  return ev,od\n",
        "even,odd=count(list_numm)\n",
        "print(even,odd)\n"
      ],
      "metadata": {
        "colab": {
          "base_uri": "https://localhost:8080/"
        },
        "id": "llpuysiEI2rX",
        "outputId": "d02643fa-5d2f-4654-c96b-7177f5acffed"
      },
      "execution_count": null,
      "outputs": [
        {
          "output_type": "stream",
          "name": "stdout",
          "text": [
            "5 4\n"
          ]
        }
      ]
    },
    {
      "cell_type": "code",
      "source": [
        "#what are inner functions\n",
        "def outer_function(x):\n",
        "    def inner_function(y):\n",
        "        return x + y\n",
        "    a=inner_function(7)\n",
        "    return a\n",
        "t=outer_function(5)\n",
        "print(t)"
      ],
      "metadata": {
        "id": "iBgMO7pXLJng",
        "colab": {
          "base_uri": "https://localhost:8080/"
        },
        "outputId": "fb617974-aa0a-4447-b6e3-4d032e7ee07a"
      },
      "execution_count": null,
      "outputs": [
        {
          "output_type": "stream",
          "name": "stdout",
          "text": [
            "12\n"
          ]
        }
      ]
    },
    {
      "cell_type": "code",
      "source": [
        "#write a program to calculate roots of a quadratic eqn\n",
        "import math\n",
        "def calc_roots(a,b,c):\n",
        "  d=b**2-4*a*c\n",
        "  x=(-b+ math.sqrt(d)/(2*a))\n",
        "  y=(-b- math.sqrt(d)/(2*a))\n",
        "  return x,y\n",
        "a=int(input(\"enter coeff of x square: \"))\n",
        "b=int(input(\"enter coeff of x : \"))\n",
        "c=int(input(\"enter constant term: \"))\n",
        "roots=calc_roots(a,b,c)\n",
        "print(roots[1])\n",
        "print(roots[0])"
      ],
      "metadata": {
        "colab": {
          "base_uri": "https://localhost:8080/"
        },
        "id": "RLszzUnFljM0",
        "outputId": "a4c605e4-5a65-4cd8-e031-2d119f51816f"
      },
      "execution_count": null,
      "outputs": [
        {
          "output_type": "stream",
          "name": "stdout",
          "text": [
            "enter coeff of x square: 1\n",
            "enter coeff of x : 2\n",
            "enter constant term: 1\n",
            "-2.0\n",
            "-2.0\n"
          ]
        }
      ]
    },
    {
      "cell_type": "code",
      "source": [
        "#write a program to pass a dictionary to a function which on a particular key use the value of that person do this for 5 entries\n",
        "def function(dict,key):\n",
        "  value=dict.get(key)\n",
        "  return(value)\n",
        "p1 = {'name': 'tia', 'age': 19, 'sap_id': 500122244}\n",
        "p2 = {'name': 'ashi', 'age': 17, 'sap_id': 501312423}\n",
        "p3 = {'name': 'shivansh', 'age': 2, 'sap_id': 5077777}\n",
        "p4 = {'name': 'kinjal', 'age': 12, 'sap_id': 5013444}\n",
        "p5 = {'name': 'keshav','age': 8, 'sap_id': 5001222}\n",
        "function(p1,'age')\n",
        "function(p3,'name')\n"
      ],
      "metadata": {
        "colab": {
          "base_uri": "https://localhost:8080/",
          "height": 36
        },
        "id": "27TIxBXv5UpM",
        "outputId": "d0e3ab71-487a-40a7-ea62-1c04b1a0a9cc"
      },
      "execution_count": null,
      "outputs": [
        {
          "output_type": "execute_result",
          "data": {
            "text/plain": [
              "'shivansh'"
            ],
            "application/vnd.google.colaboratory.intrinsic+json": {
              "type": "string"
            }
          },
          "metadata": {},
          "execution_count": 42
        }
      ]
    }
  ]
}